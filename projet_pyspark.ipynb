{
  "nbformat": 4,
  "nbformat_minor": 0,
  "metadata": {
    "colab": {
      "private_outputs": true,
      "provenance": []
    },
    "kernelspec": {
      "name": "python3",
      "display_name": "Python 3"
    },
    "language_info": {
      "name": "python"
    }
  },
  "cells": [
    {
      "cell_type": "code",
      "execution_count": null,
      "metadata": {
        "id": "MMcHrx1YMjmE"
      },
      "outputs": [],
      "source": [
        "!pip install kaggle pyspark textblob nltk\n"
      ]
    },
    {
      "cell_type": "code",
      "source": [
        "from google.colab import files\n",
        "files.upload()"
      ],
      "metadata": {
        "id": "KzJVJvGMYVPN"
      },
      "execution_count": null,
      "outputs": []
    },
    {
      "cell_type": "code",
      "source": [
        "!mv \"kaggle (1).json\" \"kaggle.json\"\n",
        "!mkdir -p ~/.kaggle\n",
        "!cp kaggle.json ~/.kaggle/\n",
        "!chmod 600 ~/.kaggle/kaggle.json\n"
      ],
      "metadata": {
        "id": "lEljZZWrQG1y"
      },
      "execution_count": null,
      "outputs": []
    },
    {
      "cell_type": "code",
      "source": [
        "!kaggle datasets list\n"
      ],
      "metadata": {
        "id": "qDowY5sTQduc"
      },
      "execution_count": null,
      "outputs": []
    },
    {
      "cell_type": "code",
      "source": [
        "!kaggle datasets download -d snap/amazon-fine-food-reviews\n"
      ],
      "metadata": {
        "id": "KbhUXcOeQouE"
      },
      "execution_count": null,
      "outputs": []
    },
    {
      "cell_type": "code",
      "source": [
        "!unzip amazon-fine-food-reviews.zip\n"
      ],
      "metadata": {
        "id": "orhJFXlJQwnQ"
      },
      "execution_count": null,
      "outputs": []
    },
    {
      "cell_type": "code",
      "source": [
        "!rm \"kaggle (1).json\"\n"
      ],
      "metadata": {
        "id": "n68nujKjQ2uN"
      },
      "execution_count": null,
      "outputs": []
    },
    {
      "cell_type": "code",
      "source": [
        "# Déplacer le fichier kaggle.json dans le répertoire attendu\n",
        "!mkdir -p ~/.kaggle\n",
        "!cp kaggle.json ~/.kaggle/\n",
        "!chmod 600 ~/.kaggle/kaggle.json\n",
        "\n",
        "\n"
      ],
      "metadata": {
        "id": "jkZ7ixhjRBTu"
      },
      "execution_count": null,
      "outputs": []
    },
    {
      "cell_type": "code",
      "source": [
        "!kaggle datasets list\n"
      ],
      "metadata": {
        "id": "9GkX_4yxRYWJ"
      },
      "execution_count": null,
      "outputs": []
    },
    {
      "cell_type": "code",
      "source": [
        "!kaggle datasets download -d snap/amazon-fine-food-reviews\n"
      ],
      "metadata": {
        "id": "l8rO9cQzRbZu"
      },
      "execution_count": null,
      "outputs": []
    },
    {
      "cell_type": "code",
      "source": [
        "!kaggle datasets download -d snap/amazon-fine-food-reviews --force\n"
      ],
      "metadata": {
        "id": "MecktTV4Rkk1"
      },
      "execution_count": null,
      "outputs": []
    },
    {
      "cell_type": "code",
      "source": [
        "!unzip -o amazon-fine-food-reviews.zip\n"
      ],
      "metadata": {
        "id": "CP2LWnluR3qZ"
      },
      "execution_count": null,
      "outputs": []
    },
    {
      "cell_type": "code",
      "source": [
        "import re\n",
        "from pyspark.sql import SparkSession\n",
        "from pyspark.sql.functions import udf\n",
        "from pyspark.sql.types import StringType\n",
        "from textblob import TextBlob\n",
        "import matplotlib.pyplot as plt\n",
        "\n",
        "# Initialiser Spark\n",
        "spark = SparkSession.builder.appName(\"Analyse de Sentiments\").getOrCreate()\n",
        "\n",
        "# Charger les données\n",
        "df = spark.read.csv(\"Reviews.csv\", header=True, inferSchema=True)\n",
        "\n",
        "# Fonction de nettoyage du texte\n",
        "def preprocess_text(text):\n",
        "    if text is None:\n",
        "        return \"\"\n",
        "    # Retirer les caractères spéciaux et les URL\n",
        "    text = re.sub(r'[^\\w\\s]', '', text)\n",
        "    return text\n",
        "\n",
        "# UDF pour nettoyer le texte\n",
        "preprocess_udf = udf(preprocess_text, StringType())\n",
        "\n",
        "# Appliquer le nettoyage\n",
        "df = df.withColumn(\"cleaned_text\", preprocess_udf(df[\"Text\"]))\n",
        "\n",
        "# Fonction d'analyse de sentiment\n",
        "def get_sentiment(text):\n",
        "    if text is None or text == \"\":\n",
        "        return \"neutre\"\n",
        "    # Analyser le sentiment avec TextBlob\n",
        "    polarity = TextBlob(text).sentiment.polarity\n",
        "    if polarity > 0:\n",
        "        return \"positif\"\n",
        "    elif polarity < 0:\n",
        "        return \"négatif\"\n",
        "    else:\n",
        "        return \"neutre\"\n",
        "\n",
        "# UDF pour l'analyse de sentiment\n",
        "sentiment_udf = udf(get_sentiment, StringType())\n",
        "\n",
        "# Appliquer l'analyse de sentiment\n",
        "df = df.withColumn(\"sentiment\", sentiment_udf(df[\"cleaned_text\"]))\n",
        "\n",
        "# Comptabiliser le nombre de chaque sentiment\n",
        "sentiment_counts = df.groupBy(\"sentiment\").count().collect()\n",
        "\n",
        "# Afficher les résultats\n",
        "sentiments = [row['sentiment'] for row in sentiment_counts]\n",
        "counts = [row['count'] for row in sentiment_counts]\n",
        "\n",
        "# Tracer un graphique\n",
        "plt.bar(sentiments, counts, color=['blue', 'orange', 'green'])\n",
        "plt.xlabel('Sentiment')\n",
        "plt.ylabel('Nombre de Critiques')\n",
        "plt.title('Répartition des Sentiments des Critiques de Produits')\n",
        "plt.show()\n",
        "\n",
        "# Arrêter Spark\n",
        "spark.stop()\n"
      ],
      "metadata": {
        "id": "RE6xyzbnTrnv"
      },
      "execution_count": null,
      "outputs": []
    }
  ]
}